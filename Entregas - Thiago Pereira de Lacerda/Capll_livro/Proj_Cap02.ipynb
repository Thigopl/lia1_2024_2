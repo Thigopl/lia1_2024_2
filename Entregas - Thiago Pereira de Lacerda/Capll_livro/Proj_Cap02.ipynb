{
  "nbformat": 4,
  "nbformat_minor": 0,
  "metadata": {
    "colab": {
      "provenance": []
    },
    "kernelspec": {
      "name": "python3",
      "display_name": "Python 3"
    },
    "language_info": {
      "name": "python"
    }
  },
  "cells": [
    {
      "cell_type": "code",
      "execution_count": 1,
      "metadata": {
        "colab": {
          "base_uri": "https://localhost:8080/"
        },
        "id": "YV2bdtcIX8E0",
        "outputId": "fbe62e9a-f5df-496c-9713-928bc7b6c60d"
      },
      "outputs": [
        {
          "output_type": "stream",
          "name": "stdout",
          "text": [
            "RMSE com Regressão Linear: 69362.34135238081\n",
            "RMSE com Árvore de Decisão: 0.0\n",
            "RMSE médio com Validação Cruzada (Árvore de Decisão): 69774.90758281192\n"
          ]
        }
      ],
      "source": [
        "import os\n",
        "import tarfile\n",
        "import urllib.request\n",
        "import pandas as pd\n",
        "from sklearn.model_selection import train_test_split\n",
        "from sklearn.impute import SimpleImputer\n",
        "from sklearn.pipeline import Pipeline\n",
        "from sklearn.preprocessing import StandardScaler\n",
        "from sklearn.linear_model import LinearRegression\n",
        "from sklearn.metrics import mean_squared_error\n",
        "import numpy as np\n",
        "from sklearn.tree import DecisionTreeRegressor\n",
        "from sklearn.model_selection import cross_val_score\n",
        "\n",
        "# Função para baixar os dados\n",
        "DOWNLOAD_ROOT = \"https://raw.githubusercontent.com/ageron/handson-ml/master/\"\n",
        "HOUSING_PATH = os.path.join(\"datasets\", \"housing\")\n",
        "HOUSING_URL = DOWNLOAD_ROOT + \"datasets/housing/housing.tgz\"\n",
        "\n",
        "def fetch_housing_data(housing_url=HOUSING_URL, housing_path=HOUSING_PATH):\n",
        "    os.makedirs(housing_path, exist_ok=True)\n",
        "    tgz_path = os.path.join(housing_path, \"housing.tgz\")\n",
        "    urllib.request.urlretrieve(housing_url, tgz_path)\n",
        "    housing_tgz = tarfile.open(tgz_path)\n",
        "    housing_tgz.extractall(path=housing_path)\n",
        "    housing_tgz.close()\n",
        "\n",
        "# Função para carregar os dados\n",
        "def load_housing_data(housing_path=HOUSING_PATH):\n",
        "    csv_path = os.path.join(housing_path, \"housing.csv\")\n",
        "    return pd.read_csv(csv_path)\n",
        "\n",
        "# Baixar e carregar os dados\n",
        "fetch_housing_data()\n",
        "housing = load_housing_data()\n",
        "\n",
        "# Divisão dos dados em conjunto de treino e teste\n",
        "train_set, test_set = train_test_split(housing, test_size=0.2, random_state=42)\n",
        "\n",
        "# Separar o atributo de rótulo (preços das casas)\n",
        "housing_labels = train_set[\"median_house_value\"].copy()\n",
        "housing = train_set.drop(\"median_house_value\", axis=1)\n",
        "\n",
        "# Pré-processamento dos dados\n",
        "housing_num = housing.drop(\"ocean_proximity\", axis=1)\n",
        "imputer = SimpleImputer(strategy=\"median\")\n",
        "housing_num = imputer.fit_transform(housing_num)\n",
        "\n",
        "num_pipeline = Pipeline([\n",
        "    ('imputer', SimpleImputer(strategy=\"median\")),\n",
        "    ('std_scaler', StandardScaler()),\n",
        "])\n",
        "\n",
        "housing_prepared = num_pipeline.fit_transform(housing_num)\n",
        "\n",
        "# Treinamento do modelo com Regressão Linear\n",
        "lin_reg = LinearRegression()\n",
        "lin_reg.fit(housing_prepared, housing_labels)\n",
        "\n",
        "# Avaliação do modelo com Regressão Linear\n",
        "housing_predictions = lin_reg.predict(housing_prepared)\n",
        "lin_mse = mean_squared_error(housing_labels, housing_predictions)\n",
        "lin_rmse = np.sqrt(lin_mse)\n",
        "print(\"RMSE com Regressão Linear:\", lin_rmse)\n",
        "\n",
        "# Treinamento do modelo com Árvore de Decisão\n",
        "tree_reg = DecisionTreeRegressor()\n",
        "tree_reg.fit(housing_prepared, housing_labels)\n",
        "\n",
        "# Avaliação do modelo com Árvore de Decisão\n",
        "housing_predictions = tree_reg.predict(housing_prepared)\n",
        "tree_mse = mean_squared_error(housing_labels, housing_predictions)\n",
        "tree_rmse = np.sqrt(tree_mse)\n",
        "print(\"RMSE com Árvore de Decisão:\", tree_rmse)\n",
        "\n",
        "# Validação Cruzada com Árvore de Decisão\n",
        "scores = cross_val_score(tree_reg, housing_prepared, housing_labels,\n",
        "                         scoring=\"neg_mean_squared_error\", cv=10)\n",
        "tree_rmse_scores = np.sqrt(-scores)\n",
        "print(\"RMSE médio com Validação Cruzada (Árvore de Decisão):\", tree_rmse_scores.mean())\n"
      ]
    }
  ]
}